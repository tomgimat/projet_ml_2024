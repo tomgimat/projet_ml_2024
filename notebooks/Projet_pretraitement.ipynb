{
 "cells": [
  {
   "cell_type": "code",
   "execution_count": 1,
   "id": "1338b089-51e7-42f5-8df7-d3b256482eb8",
   "metadata": {},
   "outputs": [],
   "source": [
    "import numpy as np\n",
    "import pandas as pd\n",
    "import nltk\n",
    "import sklearn\n",
    "import sys\n",
    "import os\n",
    "import re\n",
    "import warnings\n",
    "warnings.filterwarnings(\"ignore\", category=FutureWarning)"
   ]
  },
  {
   "cell_type": "code",
   "execution_count": 19,
   "id": "76b8e96e-fb6b-4d5e-9e7b-50d45378d791",
   "metadata": {},
   "outputs": [
    {
     "name": "stdout",
     "output_type": "stream",
     "text": [
      "0       Distracted driving causes more deaths in Canad...\n",
      "1       Missouri politicians have made statements afte...\n",
      "2       Home Alone 2: Lost in New York is full of viol...\n",
      "3       But things took a turn for the worse when riot...\n",
      "4       It’s no secret that Epstein and Schiff share a...\n",
      "                              ...                        \n",
      "1259    More than four million calls to the taxman are...\n",
      "1260    More under-18s are being taken to court for se...\n",
      "1261    The Government’s much vaunted Help to Buy Isa ...\n",
      "1262    The late Robin Williams once called cocaine “G...\n",
      "1263    The late Robin Williams once called cocaine “G...\n",
      "Name: text, Length: 1264, dtype: object\n"
     ]
    }
   ],
   "source": [
    "data_raw = pd.read_csv('G:\\\\Trucs fac\\\\MONTPELLIER\\\\2023-2024\\\\S2\\\\UEs\\\\Machine Learning\\\\projet_ml_2024\\\\data\\\\HAI817_Projet_train.csv')\n",
    "print(data_raw['text'])"
   ]
  },
  {
   "cell_type": "code",
   "execution_count": 3,
   "id": "394a425c-4f09-4a69-b123-aba540059c33",
   "metadata": {},
   "outputs": [],
   "source": [
    "def clean_text(text):\n",
    "    text = re.sub(r'<.*?>', '', text)\n",
    "    text = re.sub(r'http\\S+', '', text)\n",
    "    text = re.sub(r'[^a-zA-Z\\s]', '', text)\n",
    "    text = text.lower()\n",
    "    return text"
   ]
  },
  {
   "cell_type": "code",
   "execution_count": 4,
   "id": "340e2755-4756-494b-af4e-d917fc857f54",
   "metadata": {},
   "outputs": [
    {
     "name": "stderr",
     "output_type": "stream",
     "text": [
      "[nltk_data] Downloading package punkt to C:\\Users\\Tom-\n",
      "[nltk_data]     PC\\AppData\\Roaming\\nltk_data...\n",
      "[nltk_data]   Package punkt is already up-to-date!\n"
     ]
    }
   ],
   "source": [
    "nltk.download('punkt')\n",
    "from nltk.tokenize import word_tokenize\n",
    "\n",
    "def tokenize(text):\n",
    "    return word_tokenize(text)"
   ]
  },
  {
   "cell_type": "code",
   "execution_count": 5,
   "id": "4f21b8ff-63ea-4e8f-81fd-2035106d40c8",
   "metadata": {
    "scrolled": true
   },
   "outputs": [
    {
     "name": "stderr",
     "output_type": "stream",
     "text": [
      "[nltk_data] Downloading package stopwords to C:\\Users\\Tom-\n",
      "[nltk_data]     PC\\AppData\\Roaming\\nltk_data...\n",
      "[nltk_data]   Package stopwords is already up-to-date!\n"
     ]
    }
   ],
   "source": [
    "nltk.download('stopwords')\n",
    "from nltk.corpus import stopwords\n",
    "\n",
    "def remove_stopwords(tokens):\n",
    "    stop_words = set(stopwords.words('english'))\n",
    "    return [token for token in tokens if token not in stop_words]"
   ]
  },
  {
   "cell_type": "code",
   "execution_count": 9,
   "id": "aade18d2-1123-483a-8387-680b60da68eb",
   "metadata": {},
   "outputs": [
    {
     "name": "stderr",
     "output_type": "stream",
     "text": [
      "[nltk_data] Downloading package wordnet to C:\\Users\\Tom-\n",
      "[nltk_data]     PC\\AppData\\Roaming\\nltk_data...\n",
      "[nltk_data]   Package wordnet is already up-to-date!\n"
     ]
    }
   ],
   "source": [
    "# LEMMATISATION\n",
    "from nltk.stem import WordNetLemmatizer\n",
    "nltk.download('wordnet')\n",
    "\n",
    "def lemmatize_tokens(tokens):\n",
    "    lemmatizer = WordNetLemmatizer()\n",
    "    return [lemmatizer.lemmatize(token) for token in tokens]"
   ]
  },
  {
   "cell_type": "code",
   "execution_count": 10,
   "id": "29738d25-0e20-40c2-bb8c-22bd53b75779",
   "metadata": {},
   "outputs": [],
   "source": [
    "#VECTORISATION TF-IDF \n",
    "from sklearn.feature_extraction.text import TfidfVectorizer\n",
    "\n",
    "def vectorize_text_tfidf(texts):\n",
    "    vectorizer = TfidfVectorizer()\n",
    "    return vectorizer.fit_transform(texts)"
   ]
  },
  {
   "cell_type": "code",
   "execution_count": 21,
   "id": "b8ecd246-6f20-436d-8983-923a0fc45952",
   "metadata": {},
   "outputs": [],
   "source": [
    "#Appel des fonctions sur l'ensemble des textes\n",
    "def complete_preprocess(texts):\n",
    "    clean_texts = [clean_text(text) for text in texts]\n",
    "    tokenized_texts = [tokenize(text) for text in clean_texts]\n",
    "    filtered_texts = [remove_stopwords(tokens) for tokens in tokenized_texts]\n",
    "    lemmatized_texts = [\" \".join(lemmatize_tokens(tokens)) for tokens in filtered_texts]\n",
    "\n",
    "    vectorized_texts = vectorize_text_tfidf(lemmatized_texts)\n",
    "    return vectorized_texts"
   ]
  },
  {
   "cell_type": "code",
   "execution_count": 22,
   "id": "ea09b40b-0385-475c-871d-8624f8a24b9b",
   "metadata": {},
   "outputs": [
    {
     "name": "stdout",
     "output_type": "stream",
     "text": [
      "  (0, 5542)\t0.05829638008639897\n",
      "  (0, 23708)\t0.04119128615462582\n",
      "  (0, 298)\t0.044137768216368896\n",
      "  (0, 8176)\t0.03575234958247152\n",
      "  (0, 18251)\t0.06522306637100787\n",
      "  (0, 11346)\t0.060357855287826306\n",
      "  (0, 9719)\t0.05143901323703615\n",
      "  (0, 11847)\t0.09346954248651529\n",
      "  (0, 11658)\t0.08197303888411041\n",
      "  (0, 12844)\t0.06590143621857183\n",
      "  (0, 25370)\t0.07968548935254356\n",
      "  (0, 22708)\t0.07327626963707776\n",
      "  (0, 20664)\t0.033935895130594244\n",
      "  (0, 5876)\t0.08197303888411041\n",
      "  (0, 9577)\t0.04850789772450653\n",
      "  (0, 23023)\t0.06661859059737327\n",
      "  (0, 22987)\t0.044137768216368896\n",
      "  (0, 20322)\t0.046278570041564895\n",
      "  (0, 12835)\t0.03525783095912098\n",
      "  (0, 26216)\t0.06081415233163277\n",
      "  (0, 619)\t0.08477277323948264\n",
      "  (0, 5348)\t0.047995712900701155\n",
      "  (0, 16097)\t0.048164128662462675\n",
      "  (0, 27763)\t0.049410933812217575\n",
      "  (0, 7416)\t0.06282593722706444\n",
      "  :\t:\n",
      "  (1263, 28048)\t0.06690903032536816\n",
      "  (1263, 16858)\t0.07586015778335119\n",
      "  (1263, 22480)\t0.11644456050153709\n",
      "  (1263, 14950)\t0.06588316619143943\n",
      "  (1263, 12013)\t0.18249250446402335\n",
      "  (1263, 16894)\t0.06561008904324232\n",
      "  (1263, 19186)\t0.07214364588033213\n",
      "  (1263, 22390)\t0.09077754170002932\n",
      "  (1263, 10939)\t0.11525699543362068\n",
      "  (1263, 28773)\t0.05675064767426913\n",
      "  (1263, 15663)\t0.07214364588033213\n",
      "  (1263, 9676)\t0.07750472706818375\n",
      "  (1263, 24563)\t0.07680714657398625\n",
      "  (1263, 17063)\t0.059775715919072395\n",
      "  (1263, 12211)\t0.06960787271086942\n",
      "  (1263, 16008)\t0.055111900096816234\n",
      "  (1263, 18262)\t0.07272826034707698\n",
      "  (1263, 17351)\t0.07157155089189898\n",
      "  (1263, 4952)\t0.05927094866222589\n",
      "  (1263, 28045)\t0.19006055171642006\n",
      "  (1263, 14682)\t0.0515139502863709\n",
      "  (1263, 19414)\t0.08659849182848484\n",
      "  (1263, 14689)\t0.09008954277683369\n",
      "  (1263, 28857)\t0.06269586396750905\n",
      "  (1263, 3993)\t0.0738139281749067\n"
     ]
    }
   ],
   "source": [
    "all_texts_preprocessed = complete_preprocess(data_raw['text'])\n",
    "print(all_texts_preprocessed)\n",
    "#print(len(all_texts_preprocessed))"
   ]
  },
  {
   "cell_type": "code",
   "execution_count": null,
   "id": "72d75abb-d9e6-4fcb-8550-ccd57eaeb09b",
   "metadata": {},
   "outputs": [],
   "source": []
  }
 ],
 "metadata": {
  "kernelspec": {
   "display_name": "Python 3 (ipykernel)",
   "language": "python",
   "name": "python3"
  },
  "language_info": {
   "codemirror_mode": {
    "name": "ipython",
    "version": 3
   },
   "file_extension": ".py",
   "mimetype": "text/x-python",
   "name": "python",
   "nbconvert_exporter": "python",
   "pygments_lexer": "ipython3",
   "version": "3.10.7"
  }
 },
 "nbformat": 4,
 "nbformat_minor": 5
}
