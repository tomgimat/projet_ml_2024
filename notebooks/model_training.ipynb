{
 "cells": [
  {
   "cell_type": "code",
   "execution_count": 2,
   "id": "4605035c-a703-4411-8f54-25a28db049cd",
   "metadata": {},
   "outputs": [
    {
     "name": "stdout",
     "output_type": "stream",
     "text": [
      "(4, 4)\n"
     ]
    }
   ],
   "source": [
    "import os\n",
    "import sys\n",
    "import pandas as pd\n",
    "sys.path.append(os.path.abspath('../src'))\n",
    "import pretraitements\n",
    "\n",
    "data_raw = pd.read_csv(os.path.join(os.pardir, 'data', 'HAI817_Projet_train.csv'))\n",
    "print(pretraitements.complete_preprocess(data_raw).shape)"
   ]
  },
  {
   "cell_type": "code",
   "execution_count": null,
   "id": "7a0a17d5-64b2-4390-9d06-eabf8628cc5e",
   "metadata": {},
   "outputs": [],
   "source": []
  },
  {
   "cell_type": "code",
   "execution_count": null,
   "id": "bf695bed-93f2-45e0-bba5-8c9c75291e8d",
   "metadata": {},
   "outputs": [],
   "source": []
  }
 ],
 "metadata": {
  "kernelspec": {
   "display_name": "Python 3 (ipykernel)",
   "language": "python",
   "name": "python3"
  },
  "language_info": {
   "codemirror_mode": {
    "name": "ipython",
    "version": 3
   },
   "file_extension": ".py",
   "mimetype": "text/x-python",
   "name": "python",
   "nbconvert_exporter": "python",
   "pygments_lexer": "ipython3",
   "version": "3.10.7"
  }
 },
 "nbformat": 4,
 "nbformat_minor": 5
}
