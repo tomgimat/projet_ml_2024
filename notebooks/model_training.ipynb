{
 "cells": [
  {
   "cell_type": "code",
   "execution_count": 9,
   "id": "4605035c-a703-4411-8f54-25a28db049cd",
   "metadata": {},
   "outputs": [
    {
     "name": "stdout",
     "output_type": "stream",
     "text": [
      "[[104   9   0   1]\n",
      " [ 34  35   1   2]\n",
      " [ 15   5   3   0]\n",
      " [ 19  17   0   8]]\n",
      "              precision    recall  f1-score   support\n",
      "\n",
      "       false       0.60      0.91      0.73       114\n",
      "     mixture       0.53      0.49      0.51        72\n",
      "       other       0.75      0.13      0.22        23\n",
      "        true       0.73      0.18      0.29        44\n",
      "\n",
      "    accuracy                           0.59       253\n",
      "   macro avg       0.65      0.43      0.44       253\n",
      "weighted avg       0.62      0.59      0.54       253\n",
      "\n"
     ]
    }
   ],
   "source": [
    "import os\n",
    "import sys\n",
    "import pandas as pd\n",
    "sys.path.append(os.path.abspath('../src'))\n",
    "import pretraitements\n",
    "import pickle\n",
    "from scipy.stats import randint\n",
    "import numpy as np\n",
    "import string\n",
    "import time\n",
    "import base64\n",
    "import re\n",
    "import copy\n",
    "# librairie affichage\n",
    "import matplotlib.pyplot as plt\n",
    "import seaborn as sns\n",
    "from PIL import Image\n",
    "import plotly.graph_objs as go\n",
    "import plotly.offline as py\n",
    "import plotly.express as px\n",
    "from sklearn.metrics import confusion_matrix\n",
    "from sklearn.manifold import TSNE\n",
    "from sklearn.decomposition import PCA\n",
    "from sklearn.model_selection import KFold\n",
    "from sklearn.model_selection import cross_val_score\n",
    "from sklearn.pipeline import Pipeline\n",
    "from sklearn.naive_bayes import GaussianNB\n",
    "from sklearn.metrics import accuracy_score\n",
    "import sklearn\n",
    "from sklearn.model_selection import train_test_split\n",
    "from sklearn.ensemble import RandomForestClassifier\n",
    "from sklearn.metrics import classification_report, confusion_matrix\n",
    "from sklearn.feature_extraction.text import TfidfVectorizer\n",
    "\n",
    "vectorizer = TfidfVectorizer(max_features=5000)\n",
    "\n",
    "# pré-traitement des données et affichage de la shape\n",
    "df = pd.read_csv(os.path.join(os.pardir, 'data', 'HAI817_Projet_train.csv'))\n",
    "df['preprocessed_data'] = df['text'].apply(pretraitements.nettoyer_texte)\n",
    "\n",
    "#vectorisation\n",
    "X = vectorizer.fit_transform(df['preprocessed_data']).toarray()\n",
    "y = df['our rating']\n",
    "X_train, X_test, y_train, y_test = train_test_split(X, y, test_size=0.2, random_state=42)\n",
    "model = RandomForestClassifier(n_estimators=100, random_state=42)\n",
    "model.fit(X_train, y_train)\n",
    "y_pred = model.predict(X_test)\n",
    "print(confusion_matrix(y_test, y_pred))\n",
    "print(classification_report(y_test, y_pred))\n",
    "\n"
   ]
  },
  {
   "cell_type": "code",
   "execution_count": 13,
   "id": "7a0a17d5-64b2-4390-9d06-eabf8628cc5e",
   "metadata": {},
   "outputs": [
    {
     "data": {
      "image/png": "[encoded data removed]",
      "text/plain": [
       "<Figure size 640x480 with 2 Axes>"
      ]
     },
     "metadata": {},
     "output_type": "display_data"
    },
    {
     "name": "stdout",
     "output_type": "stream",
     "text": [
      "['abandoned' 'abbott' 'abele' ... 'youtube' 'zero' 'zone']\n",
      "          Feature  Importance\n",
      "4984         year    0.005993\n",
      "1421    education    0.004718\n",
      "994   coronavirus    0.004009\n",
      "3903         said    0.003368\n",
      "4032      service    0.003261\n",
      "782       climate    0.003140\n",
      "2506         last    0.003044\n",
      "2463         kill    0.003038\n",
      "360       average    0.002987\n",
      "661         cause    0.002889\n",
      "3188      patient    0.002831\n",
      "1318       doctor    0.002606\n",
      "3931          say    0.002606\n",
      "3055          one    0.002600\n",
      "3641       record    0.002541\n",
      "614        cancer    0.002534\n",
      "4952         work    0.002502\n",
      "3218       people    0.002499\n",
      "2686         many    0.002447\n",
      "455         biden    0.002403\n"
     ]
    }
   ],
   "source": [
    "conf_matrix = confusion_matrix(y_test, y_pred)\n",
    "sns.heatmap(conf_matrix, annot=True, fmt='d')\n",
    "plt.xlabel('Predicted')\n",
    "plt.ylabel('Actual')\n",
    "plt.show()\n",
    "\n",
    "feature_importances = model.feature_importances_\n",
    "features = vectorizer.get_feature_names_out()\n",
    "importance_df = pd.DataFrame({'Feature': features, 'Importance': feature_importances})\n",
    "importance_df = importance_df.sort_values(by='Importance', ascending=False)\n",
    "print(importance_df.head(20))"
   ]
  },
  {
   "cell_type": "code",
   "execution_count": null,
   "id": "82a4d296-ba0a-4b11-b024-90d71a18cfd4",
   "metadata": {},
   "outputs": [],
   "source": []
  }
 ],
 "metadata": {
  "kernelspec": {
   "display_name": "Python 3 (ipykernel)",
   "language": "python",
   "name": "python3"
  },
  "language_info": {
   "codemirror_mode": {
    "name": "ipython",
    "version": 3
   },
   "file_extension": ".py",
   "mimetype": "text/x-python",
   "name": "python",
   "nbconvert_exporter": "python",
   "pygments_lexer": "ipython3",
   "version": "3.10.7"
  }
 },
 "nbformat": 4,
 "nbformat_minor": 5
}
